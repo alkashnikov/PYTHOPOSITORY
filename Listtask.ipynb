{
 "cells": [
  {
   "cell_type": "code",
   "execution_count": 1,
   "id": "1c4c6706-c509-4af8-bb02-b993f8734d41",
   "metadata": {
    "tags": []
   },
   "outputs": [
    {
     "name": "stdout",
     "output_type": "stream",
     "text": [
      "Number of string elements in the list: 7\n"
     ]
    }
   ],
   "source": [
    "# Create a list with elements of different types\n",
    "my_list = [1, 'apple', 3.14, 'banana', True, 'orange', 42, 'grape',14,15,16,'fish','education','gsom',1,2,3]\n",
    "\n",
    "# Initialize a counter for strings\n",
    "string_count = 0\n",
    "\n",
    "# Loop through the list and count string elements\n",
    "for element in my_list:\n",
    "    if isinstance(element, str):\n",
    "        string_count += 1\n",
    "\n",
    "# Output the result\n",
    "print(f\"Number of string elements in the list: {string_count}\")"
   ]
  },
  {
   "cell_type": "code",
   "execution_count": null,
   "id": "16ba134e-9d00-4181-aeb5-2c63df844f1d",
   "metadata": {},
   "outputs": [],
   "source": []
  }
 ],
 "metadata": {
  "kernelspec": {
   "display_name": "Python 3 (ipykernel)",
   "language": "python",
   "name": "python3"
  },
  "language_info": {
   "codemirror_mode": {
    "name": "ipython",
    "version": 3
   },
   "file_extension": ".py",
   "mimetype": "text/x-python",
   "name": "python",
   "nbconvert_exporter": "python",
   "pygments_lexer": "ipython3",
   "version": "3.10.9"
  }
 },
 "nbformat": 4,
 "nbformat_minor": 5
}
